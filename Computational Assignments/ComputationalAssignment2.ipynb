{
 "cells": [
  {
   "cell_type": "markdown",
   "metadata": {},
   "source": [
    "# <span style='background:#f2bc74'>**Put your Name here:**  </span>\n",
    "\n",
    "Complete this assignment by copying and then editing this Jupyter Notebook."
   ]
  },
  {
   "cell_type": "markdown",
   "metadata": {},
   "source": [
    "# Computational Assignment 2\n",
    "\n",
    "In this assignment we will explore transformations."
   ]
  },
  {
   "cell_type": "markdown",
   "metadata": {},
   "source": [
    "The following function takes as input a Matrix $A$ and draws line segments through the points given by the columns of $A$.\n",
    "\n",
    "**Make sure to execute the following cell!**"
   ]
  },
  {
   "cell_type": "code",
   "execution_count": 1,
   "metadata": {},
   "outputs": [],
   "source": [
    "import matplotlib.pyplot as plt  # for creating graphics\n",
    "import math # for accessing pi=3.14..., cos, sin\n",
    "\n",
    "def draw_points(A,color='black',fill='skyblue',show_text=False):\n",
    "    \"\"\"\n",
    "    A is a matrix with at least two rows and n columns.\n",
    "    Each column denotes a point.\n",
    "    A curve is drawn consisting of line segments connecting the points in order.\n",
    "    Set fill equal to a color to color the inside of the shape.\n",
    "    \"\"\"\n",
    "    x_coords=A[0,:].tolist()[0]\n",
    "    y_coords=A[1,:].tolist()[0]\n",
    "    plt.figure(figsize=(8, 8))\n",
    "    \n",
    "    if fill:\n",
    "        plt.fill(x_coords,y_coords,color=fill)\n",
    "    \n",
    "    # draw outline\n",
    "    plt.plot(x_coords,y_coords,color=color)\n",
    "        \n",
    "    plt.axis('equal')\n",
    "    plt.gca().set_aspect('equal')\n",
    "    plt.grid()\n",
    "    \n",
    "    if show_text:\n",
    "        plt.text(3,.15,\"front\",fontsize=18,ha='right')\n",
    "        plt.text(-3,.15,\"back\",fontsize=18,ha='left')\n",
    "        plt.arrow(1,2,2,0,width=.05)\n",
    "        plt.text(2,2.25,\"moving right\",fontsize=18,ha='center')\n",
    "        \n",
    "    plt.show()"
   ]
  },
  {
   "cell_type": "markdown",
   "metadata": {},
   "source": [
    "We will represent points in the plane $\\mathbb{R}^2$ using homogeneous coordinates: a $3$-dimensional vector where the last coordinate is $1$.\n",
    "\n",
    "For this assignment, we will use a picture of a sailboat.  The homogeneous coordinates are given in the matrix `sailboat` below."
   ]
  },
  {
   "cell_type": "code",
   "execution_count": 2,
   "metadata": {},
   "outputs": [],
   "source": [
    "from sympy import *"
   ]
  },
  {
   "cell_type": "code",
   "execution_count": 3,
   "metadata": {},
   "outputs": [
    {
     "data": {
      "text/latex": [
       "$\\displaystyle \\left[\\begin{matrix}0 & -2 & 0 & 0 & -3 & -2 & 2 & 3 & 0\\\\1 & 1 & 4 & 0 & 0 & -1 & -1 & 0 & 0\\\\1 & 1 & 1 & 1 & 1 & 1 & 1 & 1 & 1\\end{matrix}\\right]$"
      ],
      "text/plain": [
       "Matrix([\n",
       "[0, -2, 0, 0, -3, -2,  2, 3, 0],\n",
       "[1,  1, 4, 0,  0, -1, -1, 0, 0],\n",
       "[1,  1, 1, 1,  1,  1,  1, 1, 1]])"
      ]
     },
     "execution_count": 3,
     "metadata": {},
     "output_type": "execute_result"
    }
   ],
   "source": [
    "sailboat=Matrix([\n",
    "    [0,1,1],\n",
    "    [-2,1,1],\n",
    "    [0,4,1],  # end of sail\n",
    "    [0,0,1],  # end of mast, beginning of hull\n",
    "    [-3,0,1],\n",
    "    [-2,-1,1],\n",
    "    [2,-1,1],\n",
    "    [3,0,1],\n",
    "    [0,0,1],  # end of hull\n",
    "]).T  # we take the transpose; we did this so the points were easy to enter as rows, but we need them as columns\n",
    "sailboat"
   ]
  },
  {
   "cell_type": "code",
   "execution_count": 4,
   "metadata": {},
   "outputs": [
    {
     "data": {
      "image/png": "[encoded data removed]",
      "text/plain": [
       "<Figure size 576x576 with 1 Axes>"
      ]
     },
     "metadata": {
      "needs_background": "light"
     },
     "output_type": "display_data"
    }
   ],
   "source": [
    "draw_points(sailboat,show_text=True)  # show text"
   ]
  },
  {
   "cell_type": "markdown",
   "metadata": {},
   "source": [
    "<font size='+3' color='red'>**For each question below, find the matrix and then draw the result of applying the matrix transformation to the sailboat.**</font>"
   ]
  },
  {
   "cell_type": "markdown",
   "metadata": {},
   "source": [
    "## Question 1\n",
    "\n",
    "We wish to apply the linear transformation $T$ that reflects the sailboat over the $x$-axis (ie, the horizontal axis) so that the mast is pointing down.  We represent $T$ by multiplication by a matrix `H`.\n",
    "Determine the matrix `H`, multiply `H` and the `sailboat`, and draw the resulting points.\n",
    "\n",
    "Remember that since we are using homogeneous coordinates, `H` is a $3\\times 3$ matrix."
   ]
  },
  {
   "cell_type": "code",
   "execution_count": null,
   "metadata": {},
   "outputs": [],
   "source": [
    "H=Matrix([\n",
    "    # fill in here\n",
    "    [],\n",
    "    [],\n",
    "    [],\n",
    "])\n",
    "H"
   ]
  },
  {
   "cell_type": "code",
   "execution_count": null,
   "metadata": {
    "scrolled": false
   },
   "outputs": [],
   "source": [
    "draw_points(H*sailboat)"
   ]
  },
  {
   "cell_type": "markdown",
   "metadata": {},
   "source": [
    "## Question 2"
   ]
  },
  {
   "cell_type": "markdown",
   "metadata": {},
   "source": [
    "Starting with the original sailboat, determine a transformation (with corresponding matrix `R`) that rotates the sailboat counterclockwise around the origin so that the bottom left corner of the sail (initially located at $(-2,1)$) is on the $x$-axis.  Approximately what angle $\\theta$ (in radians) achieves this?\n",
    "\n",
    "Note that `math.cos(3.14)` and `math.sin(3.14)` is how you can access the trigonometry functions."
   ]
  },
  {
   "cell_type": "code",
   "execution_count": null,
   "metadata": {},
   "outputs": [],
   "source": [
    "theta=\n",
    "theta"
   ]
  },
  {
   "cell_type": "code",
   "execution_count": null,
   "metadata": {},
   "outputs": [],
   "source": [
    "R=Matrix([\n",
    "    [],\n",
    "    [],\n",
    "    [],\n",
    "])\n",
    "R"
   ]
  },
  {
   "cell_type": "code",
   "execution_count": null,
   "metadata": {},
   "outputs": [],
   "source": [
    "draw_points(R*sailboat)"
   ]
  },
  {
   "cell_type": "markdown",
   "metadata": {},
   "source": [
    "# Question 3\n",
    "\n",
    "Create a transformation matrix `S` that moves the sailboat so that its bottom is on the $x$-axis and the stern (most aft part of the boat) is on the $y$-axis.  Draw the result of applying the transformation to the sailboat."
   ]
  },
  {
   "cell_type": "code",
   "execution_count": null,
   "metadata": {},
   "outputs": [],
   "source": [
    "S="
   ]
  },
  {
   "cell_type": "code",
   "execution_count": null,
   "metadata": {},
   "outputs": [],
   "source": [
    "draw_points(S*sailboat)"
   ]
  },
  {
   "cell_type": "markdown",
   "metadata": {},
   "source": [
    "# Question 4\n",
    "\n",
    "Create a tranformation matrix `F` so that the sailboat is heading to the left.  Draw the result of applying the transformation to the sailboat."
   ]
  },
  {
   "cell_type": "code",
   "execution_count": null,
   "metadata": {},
   "outputs": [],
   "source": [
    "F="
   ]
  },
  {
   "cell_type": "code",
   "execution_count": null,
   "metadata": {},
   "outputs": [],
   "source": [
    "draw_points(F*sailboat)"
   ]
  },
  {
   "cell_type": "markdown",
   "metadata": {},
   "source": [
    "# Question 5\n",
    "\n",
    "Create a transformation matrix `L` such that the bottom of the sailboat is on the $x$-axis, the stern is on the $y$-axis, and the sailboat is heading to the left.  (*Hint.  This matrix can be constructed out of matrices you already have made.*) Draw the result of applying the transformation to the sailboat."
   ]
  },
  {
   "cell_type": "code",
   "execution_count": null,
   "metadata": {},
   "outputs": [],
   "source": [
    "L="
   ]
  },
  {
   "cell_type": "code",
   "execution_count": null,
   "metadata": {},
   "outputs": [],
   "source": [
    "draw_points(L*sailboat)"
   ]
  },
  {
   "cell_type": "markdown",
   "metadata": {},
   "source": [
    "# Question 6\n",
    "\n",
    "Find the transformation matrix `Q` that when applied to the sailboat produces the following result.\n",
    "Draw the result of applying the transformation to the sailboat."
   ]
  },
  {
   "cell_type": "code",
   "execution_count": null,
   "metadata": {},
   "outputs": [],
   "source": [
    "result=Matrix([\n",
    "    [5.75,             3.75, 8.0, 5,   2,             2.25,             6.25,   8, 5],\n",
    "    [ 7.5, 8.16666666666667, 9.0, 7, 8.0, 7.16666666666667, 5.83333333333333, 6.0, 7],\n",
    "    [   1,                1,   1, 1,   1,                1,                1,   1, 1]\n",
    "])\n",
    "result"
   ]
  },
  {
   "cell_type": "code",
   "execution_count": null,
   "metadata": {},
   "outputs": [],
   "source": [
    "draw_points(result)"
   ]
  },
  {
   "cell_type": "code",
   "execution_count": null,
   "metadata": {},
   "outputs": [],
   "source": [
    "Q="
   ]
  },
  {
   "cell_type": "code",
   "execution_count": null,
   "metadata": {},
   "outputs": [],
   "source": [
    "draw_points(Q*result)"
   ]
  },
  {
   "cell_type": "markdown",
   "metadata": {},
   "source": [
    "# Question 7\n",
    "\n",
    "The matrix `P` for the linear transformation $P$ is given below.\n",
    "A linear transformation $K$ is formed by applying $P$ and then a transformation $U$.\n",
    "The matrix `K` for the linear transformation $K$ is given below.\n",
    "Find the matrix `U` for the linear transformation $U$, and draw the result of applying the transformation $U$ to the sailboat."
   ]
  },
  {
   "cell_type": "code",
   "execution_count": null,
   "metadata": {},
   "outputs": [],
   "source": [
    "P=Matrix([\n",
    "    [.25,-3,-2],\n",
    "    [1.5,-1,5],\n",
    "    [0,0,1]\n",
    "])\n",
    "P"
   ]
  },
  {
   "cell_type": "code",
   "execution_count": null,
   "metadata": {},
   "outputs": [],
   "source": [
    "K=Matrix([\n",
    "    [2.75,  1, 12],\n",
    "    [4.75, -6, 16],\n",
    "    [   0,  0,  1]\n",
    "])\n",
    "K"
   ]
  },
  {
   "cell_type": "code",
   "execution_count": null,
   "metadata": {},
   "outputs": [],
   "source": [
    "U="
   ]
  },
  {
   "cell_type": "code",
   "execution_count": null,
   "metadata": {},
   "outputs": [],
   "source": [
    "draw_points(U*sailboat)"
   ]
  },
  {
   "cell_type": "code",
   "execution_count": null,
   "metadata": {},
   "outputs": [],
   "source": []
  }
 ],
 "metadata": {
  "kernelspec": {
   "display_name": "Python 3 (ipykernel)",
   "language": "python",
   "name": "python3"
  },
  "language_info": {
   "codemirror_mode": {
    "name": "ipython",
    "version": 3
   },
   "file_extension": ".py",
   "mimetype": "text/x-python",
   "name": "python",
   "nbconvert_exporter": "python",
   "pygments_lexer": "ipython3",
   "version": "3.11.1"
  }
 },
 "nbformat": 4,
 "nbformat_minor": 4
}
