{
 "cells": [
  {
   "cell_type": "markdown",
   "metadata": {},
   "source": [
    "# <span style='background:#f2bc74'>**Put your Name here:**  </span>\n",
    "\n",
    "Complete this assignment by copying and then editing this Jupyter Notebook.\n",
    "In Canvas, submit your completed `.ipynb` file, and, if possible, the notebook printed to pdf format."
   ]
  },
  {
   "cell_type": "markdown",
   "metadata": {},
   "source": [
    "# Computational Assignment 1\n",
    "\n",
    "In this assignment we will explore linear algebra concepts using Python and SymPy in Jupyter Notebook as our  computational tool."
   ]
  },
  {
   "cell_type": "markdown",
   "metadata": {},
   "source": [
    "The following command loads the SymPy library, allowing use of the `Matrix` class."
   ]
  },
  {
   "cell_type": "code",
   "execution_count": 1,
   "metadata": {},
   "outputs": [],
   "source": [
    "from sympy import *\n",
    "init_printing()"
   ]
  },
  {
   "cell_type": "markdown",
   "metadata": {},
   "source": [
    "# Question 1\n",
    "\n",
    "Compute the reduced row echelon form of the following matrix, using elementary row operations performed in Python.  Check your answer using SymPy's built-in `rref` command."
   ]
  },
  {
   "cell_type": "code",
   "execution_count": 2,
   "metadata": {},
   "outputs": [
    {
     "data": {
      "image/png": "[encoded data removed]",
      "text/latex": [
       "$\\displaystyle \\left[\\begin{matrix}1.0 & 3.0 & -2.0 & 2.0 & 5.0\\\\0 & 1.0 & 1.0 & -5.0 & 3.0\\\\1.0 & 2.0 & -3.0 & 7.0 & 7.0\\\\-2.0 & -8.0 & 2.0 & -1.0 & -1.0\\end{matrix}\\right]$"
      ],
      "text/plain": [
       "⎡1.0   3.0   -2.0  2.0   5.0 ⎤\n",
       "⎢                            ⎥\n",
       "⎢ 0    1.0   1.0   -5.0  3.0 ⎥\n",
       "⎢                            ⎥\n",
       "⎢1.0   2.0   -3.0  7.0   7.0 ⎥\n",
       "⎢                            ⎥\n",
       "⎣-2.0  -8.0  2.0   -1.0  -1.0⎦"
      ]
     },
     "execution_count": 2,
     "metadata": {},
     "output_type": "execute_result"
    }
   ],
   "source": [
    "A=Matrix([\n",
    "    [ 1., 3.,-2., 2., 5.],\n",
    "    [ 0., 1., 1.,-5., 3.],\n",
    "    [ 1., 2.,-3., 7., 7.],\n",
    "    [-2.,-8., 2.,-1.,-1.],\n",
    "    ])\n",
    "A"
   ]
  },
  {
   "cell_type": "code",
   "execution_count": null,
   "metadata": {},
   "outputs": [],
   "source": []
  },
  {
   "cell_type": "code",
   "execution_count": null,
   "metadata": {},
   "outputs": [],
   "source": []
  },
  {
   "cell_type": "code",
   "execution_count": null,
   "metadata": {},
   "outputs": [],
   "source": []
  },
  {
   "cell_type": "code",
   "execution_count": null,
   "metadata": {},
   "outputs": [],
   "source": []
  },
  {
   "cell_type": "code",
   "execution_count": null,
   "metadata": {},
   "outputs": [],
   "source": []
  },
  {
   "cell_type": "code",
   "execution_count": null,
   "metadata": {},
   "outputs": [],
   "source": []
  },
  {
   "cell_type": "code",
   "execution_count": null,
   "metadata": {},
   "outputs": [],
   "source": []
  },
  {
   "cell_type": "markdown",
   "metadata": {},
   "source": [
    "How many solutions are there to the system $A\\mathbf{x}=\\mathbf{0}$?  Write your answer in the following text cell (you can double-click the text cell to edit it)."
   ]
  },
  {
   "cell_type": "markdown",
   "metadata": {},
   "source": [
    "Answer:"
   ]
  },
  {
   "cell_type": "markdown",
   "metadata": {},
   "source": [
    "Let $\\mathbf{b}$ be the column vector\n",
    "$$\\mathbf{b}=\\begin{bmatrix}3\\\\-4\\\\2\\\\1.5\\end{bmatrix}.$$\n",
    "Determine if $A\\mathbf{x}=\\mathbf{b}$ has a solution, and, if so, give an example $\\mathbf{y}$ of a solution.  Check that $\\mathbf{y}$ is indeed a solution by computing $A\\mathbf{y}$."
   ]
  },
  {
   "cell_type": "code",
   "execution_count": 3,
   "metadata": {},
   "outputs": [
    {
     "data": {
      "image/png": "[encoded data removed]",
      "text/latex": [
       "$\\displaystyle \\left[\\begin{matrix}3.0\\\\-4.0\\\\2.0\\\\1.5\\end{matrix}\\right]$"
      ],
      "text/plain": [
       "⎡3.0 ⎤\n",
       "⎢    ⎥\n",
       "⎢-4.0⎥\n",
       "⎢    ⎥\n",
       "⎢2.0 ⎥\n",
       "⎢    ⎥\n",
       "⎣1.5 ⎦"
      ]
     },
     "execution_count": 3,
     "metadata": {},
     "output_type": "execute_result"
    }
   ],
   "source": [
    "b=Matrix(4,1,[3.,-4.,2.,1.5])\n",
    "b"
   ]
  },
  {
   "cell_type": "markdown",
   "metadata": {},
   "source": [
    "The SymPy command `A.row_join(b)` will form a new matrix by adding `b` to the right of `A`.  This can be used to form an augmented matrix."
   ]
  },
  {
   "cell_type": "code",
   "execution_count": null,
   "metadata": {},
   "outputs": [],
   "source": []
  },
  {
   "cell_type": "markdown",
   "metadata": {},
   "source": [
    "# Question 2\n",
    "\n",
    "Let $A$ be the following $4 \\times 4$ matrix."
   ]
  },
  {
   "cell_type": "code",
   "execution_count": 12,
   "metadata": {},
   "outputs": [
    {
     "data": {
      "image/png": "[encoded data removed]",
      "text/latex": [
       "$\\displaystyle \\left[\\begin{matrix}4.0 & 5.0 & -3.0 & 2.0\\\\-6.0 & 3.0 & -8.0 & 0\\\\1.0 & 4.0 & 3.0 & -2.0\\\\0 & -3.0 & 2.0 & 1.0\\end{matrix}\\right]$"
      ],
      "text/plain": [
       "⎡4.0   5.0   -3.0  2.0 ⎤\n",
       "⎢                      ⎥\n",
       "⎢-6.0  3.0   -8.0   0  ⎥\n",
       "⎢                      ⎥\n",
       "⎢1.0   4.0   3.0   -2.0⎥\n",
       "⎢                      ⎥\n",
       "⎣ 0    -3.0  2.0   1.0 ⎦"
      ]
     },
     "execution_count": 12,
     "metadata": {},
     "output_type": "execute_result"
    }
   ],
   "source": [
    "A=Matrix([\n",
    "    [4.,5.,-3.,2.],\n",
    "    [-6.,3.,-8.,0.],\n",
    "    [1.,4.,3.,-2.],\n",
    "    [0.,-3.,2.,1.],\n",
    "])\n",
    "A"
   ]
  },
  {
   "cell_type": "markdown",
   "metadata": {},
   "source": [
    "Determine if $A$ is invertible and compute $A^{-1}$ by finding the RREF of $[A|I]$.  (You may use SymPy's built-in `rref` command.)"
   ]
  },
  {
   "cell_type": "code",
   "execution_count": null,
   "metadata": {},
   "outputs": [],
   "source": []
  },
  {
   "cell_type": "code",
   "execution_count": null,
   "metadata": {},
   "outputs": [],
   "source": []
  },
  {
   "cell_type": "code",
   "execution_count": null,
   "metadata": {},
   "outputs": [],
   "source": []
  },
  {
   "cell_type": "markdown",
   "metadata": {},
   "source": [
    "Use $A^{-1}$ to solve $A\\mathbf{x}=\\mathbf{b}$, where $\\mathbf{b}$ is given below."
   ]
  },
  {
   "cell_type": "code",
   "execution_count": 14,
   "metadata": {},
   "outputs": [
    {
     "data": {
      "image/png": "[encoded data removed]",
      "text/latex": [
       "$\\displaystyle \\left[\\begin{matrix}5\\\\-7\\\\3\\\\10\\end{matrix}\\right]$"
      ],
      "text/plain": [
       "⎡5 ⎤\n",
       "⎢  ⎥\n",
       "⎢-7⎥\n",
       "⎢  ⎥\n",
       "⎢3 ⎥\n",
       "⎢  ⎥\n",
       "⎣10⎦"
      ]
     },
     "execution_count": 14,
     "metadata": {},
     "output_type": "execute_result"
    }
   ],
   "source": [
    "b=Matrix([5,-7,3,10])\n",
    "b"
   ]
  },
  {
   "cell_type": "code",
   "execution_count": 15,
   "metadata": {},
   "outputs": [
    {
     "data": {
      "image/png": "[encoded data removed]",
      "text/latex": [
       "$\\displaystyle \\left[\\begin{matrix}-3.54984894259819\\\\2.86102719033233\\\\4.61027190332326\\\\9.36253776435045\\end{matrix}\\right]$"
      ],
      "text/plain": [
       "⎡-3.54984894259819⎤\n",
       "⎢                 ⎥\n",
       "⎢2.86102719033233 ⎥\n",
       "⎢                 ⎥\n",
       "⎢4.61027190332326 ⎥\n",
       "⎢                 ⎥\n",
       "⎣9.36253776435045 ⎦"
      ]
     },
     "execution_count": 15,
     "metadata": {},
     "output_type": "execute_result"
    }
   ],
   "source": []
  },
  {
   "cell_type": "markdown",
   "metadata": {},
   "source": [
    "Solve $A\\mathbf{x}=\\mathbf{b}$ using row reduction on the augmented matrix (you may use SymPy's built-in `rref` command)."
   ]
  },
  {
   "cell_type": "code",
   "execution_count": null,
   "metadata": {},
   "outputs": [],
   "source": []
  },
  {
   "cell_type": "markdown",
   "metadata": {},
   "source": [
    "How do your solutions using the two methods compare?  Write your answer here.\n",
    "\n",
    "Answer: (double-click to type here)"
   ]
  },
  {
   "cell_type": "markdown",
   "metadata": {},
   "source": [
    "# Question 3\n",
    "\n",
    "Balance the following chemical equation by finding the least positive integer coefficients for each molecule.\n",
    "$$\\text{MnS} + \\text{As}_2 \\text{Cr}_{10} \\text{O}_{35} + \\text{H}_2 \\text{SO}_4 \\rightarrow \\text{HMnO}_4 + \\text{As H}_3 + \\text{CrS}_3 \\text{O}_{12} + \\text{H}_2 \\text{O}$$"
   ]
  },
  {
   "cell_type": "markdown",
   "metadata": {},
   "source": [
    "Note that SymPy can also do rational arithmetic (as opposed to floating point arithmetic), which is more suited for this application.  SymPy will use rational arithmetic if the initial matrix entries are all integers (leave off decimal points!).  Below is an example."
   ]
  },
  {
   "cell_type": "code",
   "execution_count": 4,
   "metadata": {},
   "outputs": [
    {
     "data": {
      "image/png": "[encoded data removed]",
      "text/latex": [
       "$\\displaystyle \\left[\\begin{matrix}2 & 0 & 3\\\\0 & 3 & 5\\end{matrix}\\right]$"
      ],
      "text/plain": [
       "⎡2  0  3⎤\n",
       "⎢       ⎥\n",
       "⎣0  3  5⎦"
      ]
     },
     "execution_count": 4,
     "metadata": {},
     "output_type": "execute_result"
    }
   ],
   "source": [
    "A=Matrix([\n",
    "    [2,0,3],\n",
    "    [0,3,5]\n",
    "    ])\n",
    "A  # all integer values, no floating point values"
   ]
  },
  {
   "cell_type": "code",
   "execution_count": 5,
   "metadata": {},
   "outputs": [
    {
     "data": {
      "image/png": "[encoded data removed]",
      "text/latex": [
       "$\\displaystyle \\left[\\begin{matrix}1 & 0 & \\frac{3}{2}\\\\0 & 1 & \\frac{5}{3}\\end{matrix}\\right]$"
      ],
      "text/plain": [
       "⎡1  0  3/2⎤\n",
       "⎢         ⎥\n",
       "⎣0  1  5/3⎦"
      ]
     },
     "execution_count": 5,
     "metadata": {},
     "output_type": "execute_result"
    }
   ],
   "source": [
    "A.rref()[0]  # rational values!"
   ]
  },
  {
   "cell_type": "code",
   "execution_count": null,
   "metadata": {},
   "outputs": [],
   "source": []
  }
 ],
 "metadata": {
  "kernelspec": {
   "display_name": "Python 3 (ipykernel)",
   "language": "python",
   "name": "python3"
  },
  "language_info": {
   "codemirror_mode": {
    "name": "ipython",
    "version": 3
   },
   "file_extension": ".py",
   "mimetype": "text/x-python",
   "name": "python",
   "nbconvert_exporter": "python",
   "pygments_lexer": "ipython3",
   "version": "3.11.1"
  }
 },
 "nbformat": 4,
 "nbformat_minor": 4
}
